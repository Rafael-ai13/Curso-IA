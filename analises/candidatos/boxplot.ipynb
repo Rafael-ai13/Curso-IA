{
 "cells": [
  {
   "cell_type": "code",
   "execution_count": 2,
   "id": "5a1bfbed",
   "metadata": {},
   "outputs": [],
   "source": [
    "import pandas as pd\n",
    "import matplotlib.pyplot as plt\n",
    "import seaborn as sns \n",
    "\n"
   ]
  },
  {
   "cell_type": "code",
   "execution_count": null,
   "id": "d9633817",
   "metadata": {},
   "outputs": [],
   "source": [
    "dados = { 'alunos' : ['A1', 'A2', 'A3', 'A4', 'A5','A6', 'A7', 'A8', 'A9', 'A10'],\n",
    "          'idade' : []}"
   ]
  }
 ],
 "metadata": {
  "kernelspec": {
   "display_name": ".venv (3.13.2)",
   "language": "python",
   "name": "python3"
  },
  "language_info": {
   "codemirror_mode": {
    "name": "ipython",
    "version": 3
   },
   "file_extension": ".py",
   "mimetype": "text/x-python",
   "name": "python",
   "nbconvert_exporter": "python",
   "pygments_lexer": "ipython3",
   "version": "3.13.2"
  }
 },
 "nbformat": 4,
 "nbformat_minor": 5
}
