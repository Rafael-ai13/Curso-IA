{
 "cells": [
  {
   "cell_type": "markdown",
   "id": "c2a1b9c3",
   "metadata": {},
   "source": [
    "# Revisão Python\n",
    "## Concatenação de Strings\n",
    "- significa juntar uma string com a outra, juntar um pedaço de texto com outro\n",
    "- sinal de soma + \n",
    "- format \n",
    "- format string\n"
   ]
  },
  {
   "cell_type": "code",
   "execution_count": null,
   "id": "3298e889",
   "metadata": {},
   "outputs": [
    {
     "name": "stdout",
     "output_type": "stream",
     "text": [
      "Meu nome completo é: Luciano Lopes\n"
     ]
    }
   ],
   "source": [
    "# concatenação com sinal de +\n",
    "nome = 'Luciano'\n",
    "sobrenome = 'Lopes'\n",
    "\n",
    "print('Meu nome completo é: ' + nome+ ' ' + sobrenome)"
   ]
  },
  {
   "cell_type": "code",
   "execution_count": null,
   "id": "4300bdd0",
   "metadata": {},
   "outputs": [
    {
     "name": "stdout",
     "output_type": "stream",
     "text": [
      "Meu nome completo é Luciano Lopes\n"
     ]
    }
   ],
   "source": [
    "# concatenação com .format \n",
    "# essa é a forma antiga de se usar, está caindo em desuso\n",
    "\n",
    "print('Meu nome completo é {} {}'.format(nome, sobrenome))"
   ]
  },
  {
   "cell_type": "code",
   "execution_count": null,
   "id": "e95aae1c",
   "metadata": {},
   "outputs": [
    {
     "name": "stdout",
     "output_type": "stream",
     "text": [
      "Meu nome completo é Luciano Lopes\n"
     ]
    }
   ],
   "source": [
    "# concatenação com format string\n",
    "# essa será o formato utilizado no curso\n",
    "\n",
    "print(f'Meu nome completo é {nome} {sobrenome}')"
   ]
  },
  {
   "cell_type": "code",
   "execution_count": 6,
   "id": "982ba006",
   "metadata": {},
   "outputs": [
    {
     "name": "stdout",
     "output_type": "stream",
     "text": [
      "Você é maior de idade\n"
     ]
    }
   ],
   "source": [
    "#If\n",
    "\n",
    "idade = 18\n",
    "\n",
    "if(idade >= 18):\n",
    "    print('Você é maior de idade')\n",
    "else: \n",
    "    print('Você é menor de idade')"
   ]
  },
  {
   "cell_type": "code",
   "execution_count": null,
   "id": "449d4b9e",
   "metadata": {},
   "outputs": [
    {
     "name": "stdout",
     "output_type": "stream",
     "text": [
      "você não é cotista\n"
     ]
    }
   ],
   "source": [
    "# ctrl + k + c = comenta todo o codigo\n",
    "# ctrl + k + u = descomentar o código\n",
    "# usando o elif\n",
    "\n",
    "cor = 'vermelho'\n",
    "\n",
    "if (cor == 'preto'):\n",
    "    print('você é cotista')\n",
    "elif (cor == 'pardo'):\n",
    "    print('você também é cotista')\n",
    "else:\n",
    "    print('você não é cotista')"
   ]
  },
  {
   "cell_type": "code",
   "execution_count": null,
   "id": "871eadec",
   "metadata": {},
   "outputs": [],
   "source": [
    "# match case \n",
    "# é aquele caso onde tem um espécie de menu o cara vai lá tá os números depois eu coloco uma variavel de escolha e uso match case case 1, case 2, case 3"
   ]
  },
  {
   "cell_type": "markdown",
   "id": "600e6534",
   "metadata": {},
   "source": [
    "### estrutura de repetição"
   ]
  }
 ],
 "metadata": {
  "kernelspec": {
   "display_name": ".venv (3.13.2)",
   "language": "python",
   "name": "python3"
  },
  "language_info": {
   "codemirror_mode": {
    "name": "ipython",
    "version": 3
   },
   "file_extension": ".py",
   "mimetype": "text/x-python",
   "name": "python",
   "nbconvert_exporter": "python",
   "pygments_lexer": "ipython3",
   "version": "3.13.2"
  }
 },
 "nbformat": 4,
 "nbformat_minor": 5
}
